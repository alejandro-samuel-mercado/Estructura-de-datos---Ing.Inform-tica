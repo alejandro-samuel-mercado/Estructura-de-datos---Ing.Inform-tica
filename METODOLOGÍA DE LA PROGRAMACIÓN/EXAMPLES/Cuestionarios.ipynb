{
 "cells": [
  {
   "cell_type": "code",
   "execution_count": 8,
   "metadata": {},
   "outputs": [
    {
     "name": "stdout",
     "output_type": "stream",
     "text": [
      "lista [1, 2, 4, 6, 5, 3] valor paso:  0\n",
      "lista [1, 2, 4, 6, 5, 3] valor paso:  1\n",
      "lista [1, 2, 3, 6, 5, 4] valor paso:  2\n",
      "lista [1, 2, 3, 4, 5, 6] valor paso:  3\n",
      "lista [1, 2, 3, 4, 5, 6] valor paso:  4\n",
      "lista [1, 2, 3, 4, 5, 6] valor paso:  5\n",
      "valor j:  5\n"
     ]
    }
   ],
   "source": [
    "def selectorSort(lista):\n",
    "\n",
    "    n = len(lista)\n",
    "\n",
    "    for step in range(n):\n",
    "        j = step\n",
    "        for i in range(step+1, n):\n",
    "            if lista[i] < lista[j]:\n",
    "                j = i\n",
    "        lista[step], lista[j] = lista[j], lista[step]\n",
    "        print(\"lista\", lista, \"valor paso: \", step)\n",
    "    print(\"valor j: \", j)\n",
    "    return lista\n",
    "\n",
    "\n",
    "def main():\n",
    "    lista = [5, 2, 4, 6, 1, 3]\n",
    "    selectorSort(lista)\n",
    "\n",
    "\n",
    "main()"
   ]
  },
  {
   "cell_type": "code",
   "execution_count": 1,
   "metadata": {},
   "outputs": [
    {
     "data": {
      "text/plain": [
       "1"
      ]
     },
     "execution_count": 1,
     "metadata": {},
     "output_type": "execute_result"
    }
   ],
   "source": [
    "cad = \"hola\"\n",
    "\n",
    "cad.find(\"o\")"
   ]
  },
  {
   "cell_type": "code",
   "execution_count": 12,
   "metadata": {},
   "outputs": [
    {
     "name": "stdout",
     "output_type": "stream",
     "text": [
      "['ui huo hh\\n', 'erghuregerhg\\n', 'fchdsbcnkldsjknv']\n"
     ]
    }
   ],
   "source": [
    "def main():\n",
    "\n",
    "    try:\n",
    "        fichero = open('text.txt', 'r')\n",
    "        text1 = fichero.readlines()\n",
    "        fichero.close()\n",
    "        print(text1)\n",
    "\n",
    "    except Exception as e:\n",
    "        print(f\"Error: {e}\")\n",
    "\n",
    "\n",
    "main()"
   ]
  }
 ],
 "metadata": {
  "kernelspec": {
   "display_name": "Python 3",
   "language": "python",
   "name": "python3"
  },
  "language_info": {
   "codemirror_mode": {
    "name": "ipython",
    "version": 3
   },
   "file_extension": ".py",
   "mimetype": "text/x-python",
   "name": "python",
   "nbconvert_exporter": "python",
   "pygments_lexer": "ipython3",
   "version": "3.12.3"
  }
 },
 "nbformat": 4,
 "nbformat_minor": 2
}

{
 "cells": [
  {
   "cell_type": "markdown",
   "metadata": {},
   "source": [
    "#Implementar un programa que permita cargar las notas de 10 alumnos.<br/>\n",
    "La planilla “NOTAS” se compone de 2 columnas: Nombre de cada alumno y la nota. <br/>\n",
    "El programa además deberá mostrar por pantalla y al final de la carga:<br/>\n",
    "● Nombre del alumno con mayor nota<br/>\n",
    "● La nota promedio<br/>\n",
    "● Los alumnos aplazados<br/>\n",
    "Consideraciones:<br/>\n",
    "● Las notas deberán estar entre (0 – 100) puntos.<br/>\n",
    "● Se considera aplazo a una nota < 50 puntos.<br/>\n"
   ]
  },
  {
   "cell_type": "code",
   "execution_count": 29,
   "metadata": {},
   "outputs": [
    {
     "name": "stdout",
     "output_type": "stream",
     "text": [
      "lalo\t\t2\n",
      "palo\t\t99\n",
      "nany\t\t22\n",
      "Alumno con mayor nota:  palo _ Nota:  99\n",
      "Promedio:  41.0\n",
      "Alumnos aplazados:  ['lalo', 'nany']\n"
     ]
    }
   ],
   "source": [
    "def verificar_datos(nombre, nota):\n",
    "\n",
    "    while nombre == \"\" or not (0 <= nota <= 100):\n",
    "        if not (0 <= nota <= 100):\n",
    "            print(\"Error, Ingrese una nota correcta \")\n",
    "        if nombre == \"\":\n",
    "            print('Error, el nombre no puede estar vacío')\n",
    "        nombre = input(\"Ingrese un nombre:\")\n",
    "        try:\n",
    "            nota = int(input(\"Ingrese una nota: \"))\n",
    "        except ValueError as e:\n",
    "            print(e, \"Dato 'nota' no válido\")\n",
    "    return nombre, nota\n",
    "\n",
    "\n",
    "def mayor_nota(lista):\n",
    "    mayor = lista[0][1]\n",
    "    alumno = lista[0][0]\n",
    "    for i in range(1, len(lista)):\n",
    "        if lista[i][1] > mayor:\n",
    "            mayor = lista[i][1]\n",
    "            alumno = lista[i][0]\n",
    "\n",
    "    return alumno, mayor\n",
    "\n",
    "\n",
    "def promedio_notas(lista):\n",
    "    suma = 0\n",
    "    promedio = 0\n",
    "    for i in range(len(lista)):\n",
    "        suma += lista[i][1]\n",
    "    promedio = suma/len(lista)\n",
    "    return promedio\n",
    "\n",
    "\n",
    "def aplazados_alumnos(lista):\n",
    "    lista_aplazados = []\n",
    "    alumno = lista[0][0]\n",
    "    for i in range(len(lista)):\n",
    "        if lista[i][1] < 50:\n",
    "            alumno = lista[i][0]\n",
    "            lista_aplazados.append(alumno)\n",
    "\n",
    "    return lista_aplazados\n",
    "\n",
    "\n",
    "def main():\n",
    "    cont = 0\n",
    "    list_datos = []\n",
    "    while cont < 3:\n",
    "        nombre = input(\"Ingrese un nombre:\")\n",
    "\n",
    "        try:\n",
    "            nota = int(input(\"Ingrese una nota: \"))\n",
    "            nombre_, nota_ = verificar_datos(nombre, nota)\n",
    "            list_datos.append([nombre_, nota_])\n",
    "            cont += 1\n",
    "        except ValueError as e:\n",
    "            print(e, \"Dato 'nota' no válido\")\n",
    "    for nombre, nota in list_datos:\n",
    "        print(f\"{nombre}\\t\\t{nota}\")\n",
    "\n",
    "    alumno, mayor = mayor_nota(list_datos)\n",
    "    print(\"Alumno con mayor nota: \", alumno, \"_ Nota: \", mayor)\n",
    "    promedio = promedio_notas(list_datos)\n",
    "    print(\"Promedio: \", promedio)\n",
    "    aplazados = aplazados_alumnos(list_datos)\n",
    "    print(\"Alumnos aplazados: \", aplazados)\n",
    "\n",
    "\n",
    "main()"
   ]
  },
  {
   "cell_type": "code",
   "execution_count": null,
   "metadata": {},
   "outputs": [],
   "source": []
  }
 ],
 "metadata": {
  "kernelspec": {
   "display_name": "Python 3",
   "language": "python",
   "name": "python3"
  },
  "language_info": {
   "codemirror_mode": {
    "name": "ipython",
    "version": 3
   },
   "file_extension": ".py",
   "mimetype": "text/x-python",
   "name": "python",
   "nbconvert_exporter": "python",
   "pygments_lexer": "ipython3",
   "version": "3.11.6"
  }
 },
 "nbformat": 4,
 "nbformat_minor": 2
}
